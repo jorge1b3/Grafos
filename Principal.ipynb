{
 "cells": [
  {
   "cell_type": "markdown",
   "source": [
    "# Grafo del experimtento.\n",
    "Primero, importamos las librerías"
   ],
   "metadata": {
    "collapsed": false,
    "pycharm": {
     "name": "#%% md\n"
    }
   }
  },
  {
   "cell_type": "code",
   "execution_count": null,
   "outputs": [],
   "source": [
    "import math\n",
    "import pandas as pd\n",
    "import numpy as np\n",
    "import matplotlib.pyplot as plt\n",
    "import networkx as nx"
   ],
   "metadata": {
    "collapsed": false,
    "pycharm": {
     "name": "#%%\n"
    }
   }
  },
  {
   "cell_type": "markdown",
   "source": [
    "Leemos la tabla de datos"
   ],
   "metadata": {
    "collapsed": false,
    "pycharm": {
     "name": "#%% md\n"
    }
   }
  },
  {
   "cell_type": "code",
   "execution_count": null,
   "outputs": [],
   "source": [
    "# Use pandas to read the data from the csv file.\n",
    "df = pd.read_csv('nodos.csv')\n",
    "\n",
    "# Create a dictionary with the data from the csv file.\n",
    "data = {'key': df['key'],'x': df['x'], 'y': df['y'],'cantidad':df['cantidad'],'mineral':df['Mineral']}\n",
    "\n",
    "# Create a dataframe from the dictionary.\n",
    "df = pd.DataFrame(data)\n",
    "\n",
    "# Create a list of the x and y coordinates.\n",
    "x = df['x'].tolist()\n",
    "y = df['y'].tolist()\n",
    "keys = df['key'].tolist()\n",
    "cantidad = df['cantidad'].tolist()\n",
    "mineral = df['mineral'].tolist()\n"
   ],
   "metadata": {
    "collapsed": false,
    "pycharm": {
     "name": "#%%\n"
    }
   }
  },
  {
   "cell_type": "markdown",
   "source": [
    "Imprimimos la tabla de datos"
   ],
   "metadata": {
    "collapsed": false,
    "pycharm": {
     "name": "#%% md\n"
    }
   }
  },
  {
   "cell_type": "code",
   "execution_count": null,
   "outputs": [],
   "source": [
    "print(x)"
   ],
   "metadata": {
    "collapsed": false,
    "pycharm": {
     "name": "#%%\n"
    }
   }
  },
  {
   "cell_type": "markdown",
   "source": [
    "Creamos variables para iterar e iteramos en la matriz, para hallar los pesos"
   ],
   "metadata": {
    "collapsed": false,
    "pycharm": {
     "name": "#%% md\n"
    }
   }
  },
  {
   "cell_type": "code",
   "execution_count": null,
   "outputs": [],
   "source": [],
   "metadata": {
    "collapsed": false,
    "pycharm": {
     "name": "#%%\n"
    }
   }
  },
  {
   "cell_type": "code",
   "execution_count": null,
   "outputs": [],
   "source": [
    "feo = []\n",
    "for(i,j,k) in zip (x,y,keys):\n",
    "    for(m,n,v) in zip (x,y,keys):\n",
    "        if(i!=m):\n",
    "            feo.append({k:[v,math.sqrt((i-m)**2+(j-n)**2)]})\n"
   ],
   "metadata": {
    "collapsed": false,
    "pycharm": {
     "name": "#%%\n"
    }
   }
  }
 ],
 "metadata": {
  "kernelspec": {
   "display_name": "Python 3",
   "language": "python",
   "name": "python3"
  },
  "language_info": {
   "codemirror_mode": {
    "name": "ipython",
    "version": 2
   },
   "file_extension": ".py",
   "mimetype": "text/x-python",
   "name": "python",
   "nbconvert_exporter": "python",
   "pygments_lexer": "ipython2",
   "version": "2.7.6"
  }
 },
 "nbformat": 4,
 "nbformat_minor": 0
}